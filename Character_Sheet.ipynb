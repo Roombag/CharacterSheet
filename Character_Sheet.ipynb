{
  "nbformat": 4,
  "nbformat_minor": 0,
  "metadata": {
    "colab": {
      "provenance": [],
      "authorship_tag": "ABX9TyPFG8sBMgHgxlMDUpwDroQs",
      "include_colab_link": true
    },
    "kernelspec": {
      "name": "python3",
      "display_name": "Python 3"
    },
    "language_info": {
      "name": "python"
    }
  },
  "cells": [
    {
      "cell_type": "markdown",
      "metadata": {
        "id": "view-in-github",
        "colab_type": "text"
      },
      "source": [
        "<a href=\"https://colab.research.google.com/github/Roombag/CharacterSheet/blob/main/Character_Sheet.ipynb\" target=\"_parent\"><img src=\"https://colab.research.google.com/assets/colab-badge.svg\" alt=\"Open In Colab\"/></a>"
      ]
    },
    {
      "cell_type": "code",
      "execution_count": null,
      "metadata": {
        "id": "OhsNvzKUdWNr"
      },
      "outputs": [],
      "source": [
        "import json\n",
        "import requests\n",
        "\n",
        "characterSheetURL = \"https://raw.githubusercontent.com/Roombag/CharacterSheet/main/Erkrath.json\"\n",
        "characterSheetJSON = json.loads(requests.get(characterSheetURL).text)"
      ]
    },
    {
      "cell_type": "code",
      "source": [
        "# Hit Point Manipulation\n",
        "def setHitPoints(hitPointType, hitPoints):\n",
        "  characterSheetJSON['hit points'][hitPointType] = hitPoints\n",
        "  return characterSheetJSON\n",
        "setHitPoints('maximum', 71)\n",
        "def addHitPoints(hitPointType, hitPoints):\n",
        "  characterSheetJSON['hit points'][hitPointType] = characterSheetJSON['hit points'][hitPointType] + hitPoints\n",
        "  return characterSheetJSON\n",
        "def substractHitPoints(hitPointType, hitPoints):\n",
        "  characterSheetJSON['hit points'][hitPointType] = characterSheetJSON['hit points'][hitPointType] - hitPoints\n",
        "  return characterSheetJSON"
      ],
      "metadata": {
        "colab": {
          "base_uri": "https://localhost:8080/"
        },
        "id": "FVsqfZcrLe9Q",
        "outputId": "4885375d-db44-4ade-b319-37de62841667"
      },
      "execution_count": null,
      "outputs": [
        {
          "output_type": "stream",
          "name": "stdout",
          "text": [
            "65\n"
          ]
        }
      ]
    },
    {
      "cell_type": "code",
      "source": [
        "substractHitPoints('maximum', 6)\n",
        "print(characterSheetJSON['hit points']['maximum'])"
      ],
      "metadata": {
        "id": "QW2la_8AO3y2"
      },
      "execution_count": null,
      "outputs": []
    },
    {
      "cell_type": "code",
      "source": [],
      "metadata": {
        "id": "7ehR81HmQ6LK"
      },
      "execution_count": null,
      "outputs": []
    }
  ]
}